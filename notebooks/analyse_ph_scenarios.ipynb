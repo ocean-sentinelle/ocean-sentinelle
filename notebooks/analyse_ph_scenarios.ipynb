{
  "cells": [
    {
      "cell_type": "markdown",
      "metadata": {},
      "source": [
        "# 🌊 Analyse exploratoire OCÉAN-SENTINELLE\n",
        "\n",
        "Ce notebook propose une première visualisation des données `pH_scenarios.csv` (scénarios RCP)."
      ]
    },
    {
      "cell_type": "code",
      "execution_count": null,
      "metadata": {},
      "outputs": [],
      "source": [
        "import pandas as pd\n",
        "import matplotlib.pyplot as plt\n",
        "\n",
        "df = pd.read_csv('../data/processed/pH_scenarios.csv')\n",
        "df.set_index('annee').plot(title='Évolution du pH selon les scénarios RCP')\n",
        "plt.ylabel('pH')\n",
        "plt.grid(True)\n",
        "plt.show()"
      ]
    }
  ],
  "metadata": {
    "kernelspec": {
      "display_name": "Python 3",
      "language": "python",
      "name": "python3"
    },
    "language_info": {
      "name": "python",
      "version": "3.10"
    }
  },
  "nbformat": 4,
  "nbformat_minor": 5
}
