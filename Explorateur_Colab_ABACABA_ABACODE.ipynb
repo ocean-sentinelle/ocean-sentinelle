{
 "cells": [
  {
   "cell_type": "markdown",
   "id": "512facf9",
   "metadata": {},
   "source": [
    "# 📘 Explorateur ABACABA ABACODE – Notebook Google Colab\n",
    "\n",
    "Ce notebook exécute l’analyse prédictive EuroMillions basée sur la méthode ABACABA combinée à Monte Carlo."
   ]
  },
  {
   "cell_type": "code",
   "execution_count": null,
   "id": "d5e5db37",
   "metadata": {},
   "outputs": [],
   "source": [
    "# 📁 Clonage du dépôt GitHub contenant les scripts et données nécessaires\n",
    "!git clone https://github.com/VOTRE_REPO/abacaba-abacode.git\n",
    "%cd abacaba-abacode"
   ]
  },
  {
   "cell_type": "code",
   "execution_count": null,
   "id": "316d2e86",
   "metadata": {},
   "outputs": [],
   "source": [
    "# 📦 Importation des modules nécessaires\n",
    "from analyse_prediction_euromillions import executer_analyse_prediction\n",
    "from abacaba_loader import AbacabaConfigLoader\n",
    "import json"
   ]
  },
  {
   "cell_type": "code",
   "execution_count": null,
   "id": "6a0c54d3",
   "metadata": {},
   "outputs": [],
   "source": [
    "# 📊 Définition des chemins d'entrée\n",
    "CSV_TIRAGES_PATH = \"Les cinquante derniers tirages Euro Millions.csv\"\n",
    "CONFIG_PATH = \"Configuration_Préconfigurée_Pour_Prévisions_EuroMillions_Explorateur_ABACABA.json\""
   ]
  },
  {
   "cell_type": "code",
   "execution_count": null,
   "id": "921935cf",
   "metadata": {},
   "outputs": [],
   "source": [
    "# 🔧 Chargement de la configuration\n",
    "loader = AbacabaConfigLoader(CONFIG_PATH)\n",
    "config = loader.load()\n",
    "print(\"Modules actifs :\", loader.list_active_features())"
   ]
  },
  {
   "cell_type": "code",
   "execution_count": null,
   "id": "5a32a366",
   "metadata": {},
   "outputs": [],
   "source": [
    "# 🔮 Exécution de l’analyse prédictive\n",
    "resultats = executer_analyse_prediction(CSV_TIRAGES_PATH)"
   ]
  },
  {
   "cell_type": "code",
   "execution_count": null,
   "id": "2649fe46",
   "metadata": {},
   "outputs": [],
   "source": [
    "# 📈 Affichage des résultats\n",
    "print(\"Top 5 boules probables :\", resultats['top_boules_probables'])\n",
    "print(\"Top 2 étoiles probables :\", resultats['top_etoiles_probables'])"
   ]
  },
  {
   "cell_type": "code",
   "execution_count": null,
   "id": "f9f49911",
   "metadata": {},
   "outputs": [],
   "source": [
    "# 💾 Sauvegarde des résultats\n",
    "with open(\"resultats_prediction.json\", \"w\") as f:\n",
    "    json.dump(resultats, f, indent=4)\n",
    "print(\"Résultats enregistrés dans resultats_prediction.json\")"
   ]
  }
 ],
 "metadata": {},
 "nbformat": 4,
 "nbformat_minor": 5
}
