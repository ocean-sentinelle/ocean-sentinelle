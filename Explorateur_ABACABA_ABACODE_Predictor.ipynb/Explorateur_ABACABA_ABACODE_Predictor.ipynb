{
 "cells": [
  {
   "cell_type": "markdown",
   "id": "4ab85649",
   "metadata": {},
   "source": [
    "# 🧠 GPT Explorateur ABACABA ABACODE\n",
    "Ce notebook exécute l'analyse prédictive complète à partir des tirages EuroMillions."
   ]
  },
  {
   "cell_type": "code",
   "execution_count": null,
   "id": "72660e42",
   "metadata": {},
   "outputs": [],
   "source": [
    "# 📦 Importation des modules\n",
    "from analyse_prediction_euromillions import executer_analyse_prediction\n",
    "from abacaba_loader import AbacabaConfigLoader\n",
    "import json"
   ]
  },
  {
   "cell_type": "code",
   "execution_count": null,
   "id": "54feb75f",
   "metadata": {},
   "outputs": [],
   "source": [
    "# 📁 Définition des chemins d'entrée\n",
    "CSV_TIRAGES_PATH = \"Les cinquante derniers tirages Euro Millions.csv\"\n",
    "CONFIG_PATH = \"Configuration_Préconfigurée_Pour_Prévisions_EuroMillions_Explorateur_ABACABA.json\""
   ]
  },
  {
   "cell_type": "code",
   "execution_count": null,
   "id": "adfd1382",
   "metadata": {},
   "outputs": [],
   "source": [
    "# 🧩 Chargement de la configuration\n",
    "loader = AbacabaConfigLoader(CONFIG_PATH)\n",
    "config = loader.load()\n",
    "print(\"Modules actifs :\", loader.list_active_features())"
   ]
  },
  {
   "cell_type": "code",
   "execution_count": null,
   "id": "1dfb1bc5",
   "metadata": {},
   "outputs": [],
   "source": [
    "# 🔄 Lancement de l’analyse prédictive\n",
    "resultats = executer_analyse_prediction(CSV_TIRAGES_PATH)"
   ]
  },
  {
   "cell_type": "code",
   "execution_count": null,
   "id": "5b411aa9",
   "metadata": {},
   "outputs": [],
   "source": [
    "# 📊 Affichage des résultats\n",
    "print(\"Top 5 boules probables :\", resultats['top_boules_probables'])\n",
    "print(\"Top 2 étoiles probables :\", resultats['top_etoiles_probables'])"
   ]
  },
  {
   "cell_type": "code",
   "execution_count": null,
   "id": "e5b8dd18",
   "metadata": {},
   "outputs": [],
   "source": [
    "# 💾 Sauvegarde des résultats\n",
    "with open(\"resultats_prediction.json\", \"w\") as f:\n",
    "    json.dump(resultats, f, indent=4)\n",
    "print(\"Résultats enregistrés dans resultats_prediction.json\")"
   ]
  }
 ],
 "metadata": {},
 "nbformat": 4,
 "nbformat_minor": 5
}
